{
 "cells": [
  {
   "cell_type": "code",
   "execution_count": 20,
   "metadata": {},
   "outputs": [],
   "source": [
    "from typing_extensions import Literal\n",
    "from pydantic import BaseModel, Field\n",
    "from langchain_core.messages import HumanMessage, SystemMessage\n",
    "from typing_extensions import TypedDict\n",
    "import os\n",
    "from langgraph.graph import StateGraph, START, END\n",
    "from IPython.display import Image, display\n",
    "from IPython.display import Markdown"
   ]
  },
  {
   "cell_type": "code",
   "execution_count": 2,
   "metadata": {},
   "outputs": [
    {
     "data": {
      "text/plain": [
       "AIMessage(content='Hello! How can I assist you today?', additional_kwargs={}, response_metadata={'token_usage': {'completion_tokens': 10, 'prompt_tokens': 30, 'total_tokens': 40, 'completion_time': 0.05, 'prompt_time': 0.003688726, 'queue_time': 0.225231625, 'total_time': 0.053688726}, 'model_name': 'qwen-2.5-32b', 'system_fingerprint': 'fp_35f92f8282', 'finish_reason': 'stop', 'logprobs': None}, id='run-2913bdbf-4470-4dff-87b9-c54c47798a92-0', usage_metadata={'input_tokens': 30, 'output_tokens': 10, 'total_tokens': 40})"
      ]
     },
     "execution_count": 2,
     "metadata": {},
     "output_type": "execute_result"
    }
   ],
   "source": [
    "os.environ[\"GROQ_API_KEY\"]=os.getenv(\"GROQ_API_KEY\")\n",
    "import os\n",
    "from dotenv import load_dotenv\n",
    "load_dotenv()\n",
    "\n",
    "from langchain_groq import ChatGroq\n",
    "\n",
    "\n",
    "llm=ChatGroq(model=\"qwen-2.5-32b\")\n",
    "#llm = ChatOpenAI(model=\"gpt-4o\")\n",
    "result=llm.invoke(\"Hello\")\n",
    "result"
   ]
  },
  {
   "cell_type": "code",
   "execution_count": 3,
   "metadata": {},
   "outputs": [],
   "source": [
    "# Schema for structured output to use as routing logic\n",
    "class Route(BaseModel):\n",
    "    step: Literal[\"Bullish\", \"Bearish\", \"Sideways\"] = Field(\n",
    "        None, description=\"The next step in the routing process\"\n",
    "    )\n",
    "\n",
    "\n",
    "# Augment the LLM with schema for structured output\n",
    "router = llm.with_structured_output(Route)\n"
   ]
  },
  {
   "cell_type": "code",
   "execution_count": 4,
   "metadata": {},
   "outputs": [],
   "source": [
    "# State\n",
    "class State(TypedDict):\n",
    "    input: str\n",
    "    decision: str\n",
    "    output: str"
   ]
  },
  {
   "cell_type": "code",
   "execution_count": 13,
   "metadata": {},
   "outputs": [],
   "source": [
    "# Nodes\n",
    "def llm_call_1(state: State):\n",
    "    \"\"\"Suggest Futures and Options stratergy for a Bullish Market\"\"\"\n",
    "\n",
    "    result = llm.invoke(\"Futures and Options stratergy for\" + state[\"input\"])\n",
    "    return {\"output\": result.content}\n",
    "\n",
    "\n",
    "def llm_call_2(state: State):\n",
    "    \"\"\"Suggest Futures and Options stratergy for a Bearish Market\"\"\"\n",
    "\n",
    "    print(\"LLM call 2 is called\")\n",
    "\n",
    "    result = llm.invoke(\"Futures and Options stratergy for\" + state[\"input\"])\n",
    "    return {\"output\": result.content}\n",
    "\n",
    "\n",
    "def llm_call_3(state: State):\n",
    "    \"\"\"Suggest Futures and Options stratergy for a Sideways Market\"\"\"\n",
    "\n",
    "    result = llm.invoke(\"Futures and Options stratergy for\" + state[\"input\"])\n",
    "    return {\"output\": result.content}"
   ]
  },
  {
   "cell_type": "code",
   "execution_count": 14,
   "metadata": {},
   "outputs": [],
   "source": [
    "def llm_call_router(state: State):\n",
    "    \"\"\"Route the input to the appropriate node\"\"\"\n",
    "\n",
    "    # Run the augmented LLM with structured output to serve as routing logic\n",
    "    decision = router.invoke(\n",
    "        [\n",
    "            SystemMessage(\n",
    "                content=\"Route the input to Bullish, Bearish, or Sideways based on the user's request.\"\n",
    "            ),\n",
    "            HumanMessage(content=state[\"input\"]),\n",
    "        ]\n",
    "    )\n",
    "\n",
    "    return {\"decision\": decision.step}"
   ]
  },
  {
   "cell_type": "code",
   "execution_count": 15,
   "metadata": {},
   "outputs": [],
   "source": [
    "# Conditional edge function to route to the appropriate node\n",
    "def route_decision(state: State):\n",
    "    # Return the node name you want to visit next\n",
    "    if state[\"decision\"] == \"Bullish\":\n",
    "        return \"llm_call_1\"\n",
    "    elif state[\"decision\"] == \"Bearish\":\n",
    "        return \"llm_call_2\"\n",
    "    elif state[\"decision\"] == \"Sideways\":\n",
    "        return \"llm_call_3\""
   ]
  },
  {
   "cell_type": "code",
   "execution_count": 16,
   "metadata": {},
   "outputs": [
    {
     "data": {
      "image/png": "[encoded data removed]",
      "text/plain": [
       "<IPython.core.display.Image object>"
      ]
     },
     "metadata": {},
     "output_type": "display_data"
    }
   ],
   "source": [
    "# Build workflow\n",
    "router_builder = StateGraph(State)\n",
    "\n",
    "# Add nodes\n",
    "router_builder.add_node(\"llm_call_1\", llm_call_1)\n",
    "router_builder.add_node(\"llm_call_2\", llm_call_2)\n",
    "router_builder.add_node(\"llm_call_3\", llm_call_3)\n",
    "router_builder.add_node(\"llm_call_router\", llm_call_router)\n",
    "\n",
    "# Add edges to connect nodes\n",
    "router_builder.add_edge(START, \"llm_call_router\")\n",
    "router_builder.add_conditional_edges(\n",
    "    \"llm_call_router\",\n",
    "    route_decision,\n",
    "    {  # Name returned by route_decision : Name of next node to visit\n",
    "        \"llm_call_1\": \"llm_call_1\",\n",
    "        \"llm_call_2\": \"llm_call_2\",\n",
    "        \"llm_call_3\": \"llm_call_3\",\n",
    "    },\n",
    ")\n",
    "router_builder.add_edge(\"llm_call_1\", END)\n",
    "router_builder.add_edge(\"llm_call_2\", END)\n",
    "router_builder.add_edge(\"llm_call_3\", END)\n",
    "\n",
    "# Compile workflow\n",
    "router_workflow = router_builder.compile()\n",
    "\n",
    "# Show the workflow\n",
    "display(Image(router_workflow.get_graph().draw_mermaid_png()))"
   ]
  },
  {
   "cell_type": "code",
   "execution_count": 21,
   "metadata": {},
   "outputs": [
    {
     "data": {
      "text/markdown": [
       "In a bullish market, the anticipation is that the prices of the underlying assets will rise. Here are a few strategies you can consider using futures and options to capitalize on this expectation:\n",
       "\n",
       "### 1. **Bull Call Spread**\n",
       "This strategy involves buying a call option at a lower strike price and selling a call option at a higher strike price. This approach limits the risk and the potential profit but is less expensive than buying a single call option outright. It is particularly suitable when you expect the underlying asset to rise but are uncertain about the magnitude of the rise.\n",
       "\n",
       "### 2. **Bull Put Spread**\n",
       "Similar to the Bull Call Spread, but with put options. You buy a put option at a higher strike price and sell a put option at a lower strike price. This strategy is effective if you expect the market to rise moderately.\n",
       "\n",
       "### 3. **Buying Call Options**\n",
       "This is a straightforward strategy where you buy call options on the underlying assets. If the price of the asset rises, the value of the call options will increase, allowing you to profit from the difference.\n",
       "\n",
       "### 4. **Covered Call Writing**\n",
       "If you own the underlying asset, you can sell (or write) call options on that asset. This strategy is less aggressive and generates income through premiums, but it limits the upside potential if the stock price rises significantly.\n",
       "\n",
       "### 5. **Bull Futures Spread**\n",
       "This involves buying a futures contract with a near-term expiration and simultaneously selling a futures contract with a longer-term expiration. This can be effective if you expect the short-term price to rise more than the long-term price.\n",
       "\n",
       "### 6. **Buying Futures Contracts**\n",
       "Similar to buying call options, you can directly buy futures contracts if you expect the underlying asset's price to rise. This strategy has a higher risk due to the leverage involved in futures trading, but it also offers the potential for high returns.\n",
       "\n",
       "### Key Considerations:\n",
       "- **Risk Tolerance:** Consider your risk tolerance and financial capacity to absorb potential losses.\n",
       "- **Market Conditions:** Always monitor market conditions and economic indicators that might affect the market's direction.\n",
       "- **Execution:** Ensure that you have a plan for how to enter and exit trades, and consider using stop-loss orders to manage risk.\n",
       "- **Research:** Regularly review and research the underlying assets and the broader market environment.\n",
       "\n",
       "### Important Note:\n",
       "Each of these strategies has its own risk profile and potential reward. It's crucial to understand these well and possibly consult with a financial advisor before implementing any of these strategies, especially if you're not familiar with futures and options trading."
      ],
      "text/plain": [
       "<IPython.core.display.Markdown object>"
      ]
     },
     "execution_count": 21,
     "metadata": {},
     "output_type": "execute_result"
    }
   ],
   "source": [
    "# Invoke\n",
    "state = router_workflow.invoke({\"input\": \"Suggest a stratergy for a bullish market\"})\n",
    "Markdown(state[\"output\"])"
   ]
  }
 ],
 "metadata": {
  "kernelspec": {
   "display_name": "venv",
   "language": "python",
   "name": "python3"
  },
  "language_info": {
   "codemirror_mode": {
    "name": "ipython",
    "version": 3
   },
   "file_extension": ".py",
   "mimetype": "text/x-python",
   "name": "python",
   "nbconvert_exporter": "python",
   "pygments_lexer": "ipython3",
   "version": "3.12.0"
  }
 },
 "nbformat": 4,
 "nbformat_minor": 2
}
