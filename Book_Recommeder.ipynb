{
 "cells": [
  {
   "cell_type": "code",
   "execution_count": null,
   "metadata": {},
   "outputs": [],
   "source": [
    "from typing_extensions import Literal\n",
    "from pydantic import BaseModel, Field\n",
    "from langchain_core.messages import HumanMessage, SystemMessage\n",
    "from typing_extensions import TypedDict\n",
    "import os\n",
    "from langgraph.graph import StateGraph, START, END\n",
    "from IPython.display import Image, display\n",
    "from IPython.display import Markdown"
   ]
  },
  {
   "cell_type": "code",
   "execution_count": 20,
   "metadata": {},
   "outputs": [
    {
     "data": {
      "text/plain": [
       "AIMessage(content='Hello! How can I assist you today?', additional_kwargs={}, response_metadata={'token_usage': {'completion_tokens': 10, 'prompt_tokens': 30, 'total_tokens': 40, 'completion_time': 0.05, 'prompt_time': 0.003681851, 'queue_time': 0.457784868, 'total_time': 0.053681851}, 'model_name': 'qwen-2.5-32b', 'system_fingerprint': 'fp_35f92f8282', 'finish_reason': 'stop', 'logprobs': None}, id='run-94e4a34a-e611-4a2f-ae97-e951fbd7deda-0', usage_metadata={'input_tokens': 30, 'output_tokens': 10, 'total_tokens': 40})"
      ]
     },
     "execution_count": 20,
     "metadata": {},
     "output_type": "execute_result"
    }
   ],
   "source": [
    "os.environ[\"GROQ_API_KEY\"]=os.getenv(\"GROQ_API_KEY\")\n",
    "import os\n",
    "from dotenv import load_dotenv\n",
    "load_dotenv()\n",
    "\n",
    "from langchain_groq import ChatGroq\n",
    "\n",
    "\n",
    "llm=ChatGroq(model=\"qwen-2.5-32b\")\n",
    "#llm = ChatOpenAI(model=\"gpt-4o\")\n",
    "result=llm.invoke(\"Hello\")\n",
    "result"
   ]
  },
  {
   "cell_type": "code",
   "execution_count": 21,
   "metadata": {},
   "outputs": [],
   "source": [
    "# Schema for structured output to use as routing logic\n",
    "class Route(BaseModel):\n",
    "    step: Literal[\"Fiction\", \"Horror\", \"Mythology\",\"Crime\"] = Field(\n",
    "        None, description=\"The next step in the routing process\"\n",
    "    )\n",
    "\n",
    "\n",
    "# Augment the LLM with schema for structured output\n",
    "router = llm.with_structured_output(Route)\n"
   ]
  },
  {
   "cell_type": "code",
   "execution_count": 22,
   "metadata": {},
   "outputs": [],
   "source": [
    "# State\n",
    "class State(TypedDict):\n",
    "    input: str\n",
    "    decision: str\n",
    "    output: str"
   ]
  },
  {
   "cell_type": "code",
   "execution_count": 31,
   "metadata": {},
   "outputs": [],
   "source": [
    "# Nodes\n",
    "def llm_Fiction(state: State):\n",
    "    \"\"\"Suggest a list of books for Fiction Genre\"\"\"\n",
    "\n",
    "    result = llm.invoke(\"Suggest a list of books for Fiction Genre for\" + state[\"input\"])\n",
    "    return {\"output\": result.content}\n",
    "\n",
    "\n",
    "def llm_Horror(state: State):\n",
    "    \"\"\"Suggest a list of books for Horror Genre\"\"\"\n",
    "\n",
    "    print(\"LLM call 2 is called\")\n",
    "\n",
    "    result = llm.invoke(\"Suggest a list of books for Horror Genre\" + state[\"input\"])\n",
    "    return {\"output\": result.content}\n",
    "\n",
    "\n",
    "def llm_Mythology(state: State):\n",
    "    \"\"\"Suggest a list of books for Mythology Genre\"\"\"\n",
    "\n",
    "    result = llm.invoke(\"Suggest a list of books for Mythology Genre\" + state[\"input\"])\n",
    "    return {\"output\": result.content}\n",
    "\n",
    "def llm_Crime(state: State):\n",
    "    \"\"\"Suggest a list of books for Crime Genre\"\"\"\n",
    "\n",
    "    result = llm.invoke(\"Suggest a list of books for Crime Genre\" + state[\"input\"])\n",
    "    return {\"output\": result.content}"
   ]
  },
  {
   "cell_type": "code",
   "execution_count": 32,
   "metadata": {},
   "outputs": [],
   "source": [
    "def llm_call_router(state: State):\n",
    "    \"\"\"Route the input to the appropriate node\"\"\"\n",
    "\n",
    "    # Run the augmented LLM with structured output to serve as routing logic\n",
    "    decision = router.invoke(\n",
    "        [\n",
    "            SystemMessage(\n",
    "                content=\"Route the input to Fiction, Horror, Crime or Mythology based on the user's request.\"\n",
    "            ),\n",
    "            HumanMessage(content=state[\"input\"]),\n",
    "        ]\n",
    "    )\n",
    "\n",
    "    return {\"decision\": decision.step}"
   ]
  },
  {
   "cell_type": "code",
   "execution_count": 33,
   "metadata": {},
   "outputs": [],
   "source": [
    "# Conditional edge function to route to the appropriate node\n",
    "def route_decision(state: State):\n",
    "    # Return the node name you want to visit next\n",
    "    if state[\"decision\"] == \"Fiction\":\n",
    "        return \"llm_Fiction\"\n",
    "    elif state[\"decision\"] == \"Horror\":\n",
    "        return \"llm_Horror\"\n",
    "    elif state[\"decision\"] == \"Mythology\":\n",
    "        return \"llm_Mythology\"\n",
    "    elif state[\"decision\"] == \"Crime\":\n",
    "        return \"llm_Crime\""
   ]
  },
  {
   "cell_type": "code",
   "execution_count": 34,
   "metadata": {},
   "outputs": [
    {
     "data": {
      "image/png": "[encoded data removed]",
      "text/plain": [
       "<IPython.core.display.Image object>"
      ]
     },
     "metadata": {},
     "output_type": "display_data"
    }
   ],
   "source": [
    "# Build workflow\n",
    "router_builder = StateGraph(State)\n",
    "\n",
    "# Add nodes\n",
    "router_builder.add_node(\"llm_call_router\", llm_call_router)\n",
    "router_builder.add_node(\"llm_Fiction\", llm_Fiction)\n",
    "router_builder.add_node(\"llm_Horror\", llm_Horror)\n",
    "router_builder.add_node(\"llm_Mythology\", llm_Mythology)\n",
    "router_builder.add_node(\"llm_Crime\", llm_Crime)\n",
    "\n",
    "# Add edges to connect nodes\n",
    "router_builder.add_edge(START, \"llm_call_router\")\n",
    "router_builder.add_conditional_edges(\n",
    "    \"llm_call_router\",\n",
    "    route_decision,\n",
    "    {  # Name returned by route_decision : Name of next node to visit\n",
    "        \"llm_Fiction\": \"llm_Fiction\",\n",
    "        \"llm_Horror\": \"llm_Horror\",\n",
    "        \"llm_Mythology\": \"llm_Mythology\",\n",
    "        \"llm_Crime\": \"llm_Crime\",\n",
    "    },\n",
    ")\n",
    "router_builder.add_edge(\"llm_Fiction\", END)\n",
    "router_builder.add_edge(\"llm_Horror\", END)\n",
    "router_builder.add_edge(\"llm_Mythology\", END)\n",
    "router_builder.add_edge(\"llm_Crime\", END)\n",
    "\n",
    "# Compile workflow\n",
    "router_workflow = router_builder.compile()\n",
    "\n",
    "# Show the workflow\n",
    "display(Image(router_workflow.get_graph().draw_mermaid_png()))\n",
    "\n",
    "\n"
   ]
  },
  {
   "cell_type": "code",
   "execution_count": 37,
   "metadata": {},
   "outputs": [
    {
     "data": {
      "text/markdown": [
       "Certainly! If you're interested in diving into the world of mythology, here's a list of books that cover a range of cultures and provide deep insights into ancient myths and legends:\n",
       "\n",
       "1. **\"The Iliad\" and \"The Odyssey\" by Homer** - These epic poems are fundamental to understanding Greek mythology, detailing the Trojan War and the adventures of Odysseus, respectively.\n",
       "\n",
       "2. **\"Theogony\" and \"Works and Days\" by Hesiod** - These works by the ancient Greek poet Hesiod provide a comprehensive account of Greek creation myths and the genealogy of the gods.\n",
       "\n",
       "3. **\"Mythology: Timeless Tales of Gods and Heroes\" by Edith Hamilton** - This book offers a comprehensive and accessible introduction to Greek, Roman, and Norse myths, making complex narratives clear and engaging.\n",
       "\n",
       "4. **\"The Egyptian Book of the Dead\" with various translations** - This book is a collection of funerary texts from ancient Egypt, providing insight into Egyptian beliefs about the afterlife and their gods.\n",
       "\n",
       "5. **\"The Norse Myths\" by Kevin Crossley-Holland** - This book retells the myths of the Norse gods, including Odin, Thor, and Loki, in a way that makes them accessible to modern readers.\n",
       "\n",
       "6. **\"When the World Was Young: Native American Myths and Tales\" edited by William J. Showers** - This anthology includes stories from various Native American tribes, offering a rich tapestry of creation stories and cultural myths.\n",
       "\n",
       "7. **\"The Golden Bough\" by James George Frazer** - This classic work explores the cultural aspects of magic and myth, especially the rituals and beliefs of ancient societies, focusing on the annual death and rebirth of a god.\n",
       "\n",
       "8. **\"Gilgamesh\" translated by Andrew George** - This is a poetic and powerful account of the ancient Mesopotamian epic, one of the earliest known works of literature, which tells the story of the hero Gilgamesh and his quest for immortality.\n",
       "\n",
       "9. **\"Celtic Myths and Legends\" by Peter Berresford Ellis** - This book delves into the myths and legends of the Celts, including tales of gods, heroes, and mythical creatures from Irish, Scottish, and Welsh traditions.\n",
       "\n",
       "10. **\"Bulfinch's Mythology\" by Thomas Bulfinch** - This collection includes myths and legends from Greek, Roman, and Norse traditions, as well as tales from chivalry, providing a foundational understanding of Western mythology.\n",
       "\n",
       "These books offer a wonderful journey through the mythologies of various cultures, offering insights into the beliefs, values, and imaginations of ancient societies."
      ],
      "text/plain": [
       "<IPython.core.display.Markdown object>"
      ]
     },
     "execution_count": 37,
     "metadata": {},
     "output_type": "execute_result"
    }
   ],
   "source": [
    "# Invoke\n",
    "state = router_workflow.invoke({\"input\": \"Mythology book\"})\n",
    "Markdown(state[\"output\"])"
   ]
  }
 ],
 "metadata": {
  "kernelspec": {
   "display_name": "Python 3",
   "language": "python",
   "name": "python3"
  },
  "language_info": {
   "codemirror_mode": {
    "name": "ipython",
    "version": 3
   },
   "file_extension": ".py",
   "mimetype": "text/x-python",
   "name": "python",
   "nbconvert_exporter": "python",
   "pygments_lexer": "ipython3",
   "version": "3.12.0"
  }
 },
 "nbformat": 4,
 "nbformat_minor": 2
}
